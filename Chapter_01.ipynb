{
 "cells": [
  {
   "cell_type": "markdown",
   "metadata": {
    "colab_type": "text",
    "id": "view-in-github"
   },
   "source": [
    "<a href=\"https://colab.research.google.com/github/HoundDogDan/SummarizeNLP/blob/main/Chapter_01.ipynb\" target=\"_parent\"><img src=\"https://colab.research.google.com/assets/colab-badge.svg\" alt=\"Open In Colab\"/></a>"
   ]
  },
  {
   "cell_type": "markdown",
   "metadata": {
    "id": "rqiv7pglg284"
   },
   "source": [
    "MEAP Live Project - Summarize News Articles with NLP, Deep Learning and Python"
   ]
  },
  {
   "cell_type": "code",
   "execution_count": 1,
   "metadata": {
    "colab": {
     "base_uri": "https://localhost:8080/"
    },
    "id": "05RFdrUVqE7D",
    "outputId": "5a079bab-9bc0-47ab-e565-5cc6b316d418"
   },
   "outputs": [
    {
     "name": "stderr",
     "output_type": "stream",
     "text": [
      "'wget' is not recognized as an internal or external command,\n",
      "operable program or batch file.\n"
     ]
    }
   ],
   "source": [
    "!wget \"https://github.com/Manning-LP-What-s-The-News/Starter-Repository/releases/download/v0.1.0/cnn_stories.tgz\""
   ]
  },
  {
   "cell_type": "code",
   "execution_count": 3,
   "metadata": {
    "id": "rvUBH3a-rOGz"
   },
   "outputs": [],
   "source": [
    "import tarfile\n",
    "with tarfile.open('cnn_stories.tgz') as tar:\n",
    "    tar.extractall(path='data')"
   ]
  },
  {
   "cell_type": "code",
   "execution_count": 6,
   "metadata": {
    "colab": {
     "base_uri": "https://localhost:8080/"
    },
    "id": "T-VrVhHWg1cI",
    "outputId": "3e8f660d-8a16-4993-b93d-1b3ad231d081"
   },
   "outputs": [
    {
     "data": {
      "text/plain": [
       "WindowsPath('C:/Users/DannyScott/Documents/GitHub/SummaryNLP')"
      ]
     },
     "execution_count": 6,
     "metadata": {},
     "output_type": "execute_result"
    }
   ],
   "source": [
    "import pathlib\n",
    "cur_path = pathlib.Path()\n",
    "cur_path.cwd()\n"
   ]
  },
  {
   "cell_type": "code",
   "execution_count": 7,
   "metadata": {
    "colab": {
     "base_uri": "https://localhost:8080/"
    },
    "id": "B_xvJL7avEHY",
    "outputId": "2fdac602-ed5f-4cba-c3d1-ba7936a9d100"
   },
   "outputs": [
    {
     "data": {
      "text/plain": [
       "[WindowsPath('.git'),\n",
       " WindowsPath('.ipynb_checkpoints'),\n",
       " WindowsPath('Chapter_01.ipynb'),\n",
       " WindowsPath('cnn_stories.tgz'),\n",
       " WindowsPath('data'),\n",
       " WindowsPath('README.md')]"
      ]
     },
     "execution_count": 7,
     "metadata": {},
     "output_type": "execute_result"
    }
   ],
   "source": [
    "list(cur_path.iterdir())"
   ]
  },
  {
   "cell_type": "code",
   "execution_count": 9,
   "metadata": {
    "colab": {
     "base_uri": "https://localhost:8080/"
    },
    "id": "xkfbPcdSvES2",
    "outputId": "081da2bf-8a51-4579-9467-29139bdb1dfa"
   },
   "outputs": [
    {
     "data": {
      "text/plain": [
       "WindowsPath('data/cnn/stories/0001d1afc246a7964130f43ae940af6bc6c57f01.story')"
      ]
     },
     "execution_count": 9,
     "metadata": {},
     "output_type": "execute_result"
    }
   ],
   "source": [
    "datapath = pathlib.Path('data/cnn/stories')\n",
    "stories = list(datapath.iterdir())\n",
    "stories[0]"
   ]
  },
  {
   "cell_type": "code",
   "execution_count": 11,
   "metadata": {
    "id": "9eRqMgSnvEWn"
   },
   "outputs": [
    {
     "name": "stdout",
     "output_type": "stream",
     "text": [
      "It's official: U.S. President Barack Obama wants lawmakers to weigh in on whether to use military force in Syria.\n",
      "\n",
      "Obama sent a letter to the heads of the House and Senate on Saturday night, hours after announcing that he believes military action against Syrian targets is the right step to take over the alleged use of chemical weapons.\n",
      "\n",
      "The proposed legislation from Obama asks Congress to approve the use of military force \"to deter, disrupt, prevent and degrade the potential for future uses of chemical weapons or other weapons of mass destruction.\"\n",
      "\n",
      "It's a step that is set to turn an international crisis into a fierce domestic political battle.\n",
      "\n",
      "There are key questions looming over the debate: What did U.N. weapons inspectors find in Syria? What happens if Congress votes no? And how will the Syrian government react?\n",
      "\n",
      "In a televised address from the White House Rose Garden earlier Saturday, the president said he would take his case to Congress, not because he has to -- but because he wants to.\n",
      "\n",
      "\"While I believe I have the authority to carry out this military action without specific congressional authorization, I know that the country will be stronger if we take this course, and our actions will be even more effective,\" he said. \"We should have this debate, because the issues are too big for business as usual.\"\n",
      "\n",
      "Obama said top congressional leaders had agreed to schedule a debate when the body returns to Washington on September 9. The Senate Foreign Relations Committee will hold a hearing over the matter on Tuesday, Sen. Robert Menendez said.\n",
      "\n",
      "Transcript: Read Obama's full remarks\n",
      "\n",
      "Syrian crisis: Latest developments\n",
      "\n",
      "U.N. inspectors leave Syria\n",
      "\n",
      "Obama's remarks came shortly after U.N. inspectors left Syria, carrying evidence that will determine whether chemical weapons were used in an attack early last week in a Damascus suburb.\n",
      "\n",
      "\"The aim of the game here, the mandate, is very clear -- and that is to ascertain whether chemical weapons were used -- and not by whom,\" U.N. spokesman Martin Nesirky told reporters on Saturday.\n",
      "\n",
      "But who used the weapons in the reported toxic gas attack in a Damascus suburb on August 21 has been a key point of global debate over the Syrian crisis.\n",
      "\n",
      "Top U.S. officials have said there's no doubt that the Syrian government was behind it, while Syrian officials have denied responsibility and blamed jihadists fighting with the rebels.\n",
      "\n",
      "British and U.S. intelligence reports say the attack involved chemical weapons, but U.N. officials have stressed the importance of waiting for an official report from inspectors.\n",
      "\n",
      "The inspectors will share their findings with U.N. Secretary-General Ban Ki-moon Ban, who has said he wants to wait until the U.N. team's final report is completed before presenting it to the U.N. Security Council.\n",
      "\n",
      "The Organization for the Prohibition of Chemical Weapons, which nine of the inspectors belong to, said Saturday that it could take up to three weeks to analyze the evidence they collected.\n",
      "\n",
      "\"It needs time to be able to analyze the information and the samples,\" Nesirky said.\n",
      "\n",
      "He noted that Ban has repeatedly said there is no alternative to a political solution to the crisis in Syria, and that \"a military solution is not an option.\"\n",
      "\n",
      "Bergen:  Syria is a problem from hell for the U.S.\n",
      "\n",
      "Obama: 'This menace must be confronted'\n",
      "\n",
      "Obama's senior advisers have debated the next steps to take, and the president's comments Saturday came amid mounting political pressure over the situation in Syria. Some U.S. lawmakers have called for immediate action while others warn of stepping into what could become a quagmire.\n",
      "\n",
      "Some global leaders have expressed support, but the British Parliament's vote against military action earlier this week was a blow to Obama's hopes of getting strong backing from key NATO allies.\n",
      "\n",
      "On Saturday, Obama proposed what he said would be a limited military action against Syrian President Bashar al-Assad. Any military attack would not be open-ended or include U.S. ground forces, he said.\n",
      "\n",
      "Syria's alleged use of chemical weapons earlier this month \"is an assault on human dignity,\" the president said.\n",
      "\n",
      "A failure to respond with force, Obama argued,  \"could lead to escalating use of chemical weapons or their proliferation to terrorist groups who would do our people harm. In a world with many dangers, this menace must be confronted.\"\n",
      "\n",
      "Syria missile strike: What would happen next?\n",
      "\n",
      "Map: U.S. and allied assets around Syria\n",
      "\n",
      "Obama decision came Friday night\n",
      "\n",
      "On Friday night, the president made a last-minute decision to consult lawmakers.\n",
      "\n",
      "What will happen if they vote no?\n",
      "\n",
      "It's unclear. A senior administration official told CNN that Obama has the authority to act without Congress -- even if Congress rejects his request for authorization to use force.\n",
      "\n",
      "Obama on Saturday continued to shore up support for a strike on the al-Assad government.\n",
      "\n",
      "He spoke by phone with French President Francois Hollande before his Rose Garden speech.\n",
      "\n",
      "\"The two leaders agreed that the international community must deliver a resolute message to the Assad regime -- and others who would consider using chemical weapons -- that these crimes are unacceptable and those who violate this international norm will be held accountable by the world,\" the White House said.\n",
      "\n",
      "Meanwhile, as uncertainty loomed over how Congress would weigh in, U.S. military officials said they remained at the ready.\n",
      "\n",
      "5 key assertions: U.S. intelligence report on Syria\n",
      "\n",
      "Syria: Who wants what after chemical weapons horror\n",
      "\n",
      "Reactions mixed to Obama's speech\n",
      "\n",
      "A spokesman for the Syrian National Coalition said that the opposition group was disappointed by Obama's announcement.\n",
      "\n",
      "\"Our fear now is that the lack of action could embolden the regime and they repeat his attacks in a more serious way,\" said spokesman Louay Safi. \"So we are quite concerned.\"\n",
      "\n",
      "Some members of Congress applauded Obama's decision.\n",
      "\n",
      "House Speaker John Boehner, Majority Leader Eric Cantor, Majority Whip Kevin McCarthy and Conference Chair Cathy McMorris Rodgers issued a statement Saturday praising the president.\n",
      "\n",
      "\"Under the Constitution, the responsibility to declare war lies with Congress,\" the Republican lawmakers said. \"We are glad the president is seeking authorization for any military action in Syria in response to serious, substantive questions being raised.\"\n",
      "\n",
      "More than 160 legislators, including 63 of Obama's fellow Democrats, had signed letters calling for either a vote or at least a \"full debate\" before any U.S. action.\n",
      "\n",
      "British Prime Minister David Cameron, whose own attempt to get lawmakers in his country to support military action in Syria failed earlier this week, responded to Obama's speech in a Twitter post Saturday.\n",
      "\n",
      "\"I understand and support Barack Obama's position on Syria,\" Cameron said.\n",
      "\n",
      "An influential lawmaker in Russia -- which has stood by Syria and criticized the United States -- had his own theory.\n",
      "\n",
      "\"The main reason Obama is turning to the Congress:  the military operation did not get enough support either in the world, among allies of the US or in the United States itself,\" Alexei Pushkov, chairman of the international-affairs committee of the Russian State Duma, said in a Twitter post.\n",
      "\n",
      "In the United States, scattered groups of anti-war protesters around the country took to the streets Saturday.\n",
      "\n",
      "\"Like many other Americans...we're just tired of the United States getting involved and invading and bombing other countries,\" said Robin Rosecrans, who was among hundreds at a Los Angeles demonstration.\n",
      "\n",
      "What do Syria's neighbors think?\n",
      "\n",
      "Why Russia, China, Iran stand by Assad\n",
      "\n",
      "Syria's government unfazed\n",
      "\n",
      "After Obama's speech, a military and political analyst on Syrian state TV said Obama is \"embarrassed\" that Russia opposes military action against Syria, is \"crying for help\" for someone to come to his rescue and is facing two defeats -- on the political and military levels.\n",
      "\n",
      "Syria's prime minister appeared unfazed by the saber-rattling.\n",
      "\n",
      "\"The Syrian Army's status is on maximum readiness and fingers are on the trigger to confront all challenges,\" Wael Nader al-Halqi said during a meeting with a delegation of Syrian expatriates from Italy, according to a banner on Syria State TV that was broadcast prior to Obama's address.\n",
      "\n",
      "An anchor on Syrian state television said Obama \"appeared to be preparing for an aggression on Syria based on repeated lies.\"\n",
      "\n",
      "A top Syrian diplomat told the state television network that Obama was facing pressure to take military action from Israel, Turkey, some Arabs and right-wing extremists in the United States.\n",
      "\n",
      "\"I think he has done well by doing what Cameron did in terms of taking the issue to Parliament,\" said Bashar Jaafari, Syria's ambassador to the United Nations.\n",
      "\n",
      "Both Obama and Cameron, he said, \"climbed to the top of the tree and don't know how to get down.\"\n",
      "\n",
      "The Syrian government has denied that it used chemical weapons in the August 21 attack, saying that jihadists fighting with the rebels used them in an effort to turn global sentiments against it.\n",
      "\n",
      "British intelligence had put the number of people killed in the attack at more than 350.\n",
      "\n",
      "On Saturday, Obama said \"all told, well over 1,000 people were murdered.\" U.S. Secretary of State John Kerry on Friday cited a death toll of 1,429, more than 400 of them children. No explanation was offered for the discrepancy.\n",
      "\n",
      "Iran: U.S. military action in Syria would spark 'disaster'\n",
      "\n",
      "Opinion: Why strikes in Syria are a bad idea\n",
      "\n",
      "@highlight\n",
      "\n",
      "Syrian official: Obama climbed to the top of the tree, \"doesn't know how to get down\"\n",
      "\n",
      "@highlight\n",
      "\n",
      "Obama sends a letter to the heads of the House and Senate\n",
      "\n",
      "@highlight\n",
      "\n",
      "Obama to seek congressional approval on military action against Syria\n",
      "\n",
      "@highlight\n",
      "\n",
      "Aim is to determine whether CW were used, not by whom, says U.N. spokesman\n"
     ]
    }
   ],
   "source": [
    "with open(stories[0], 'r') as f:\n",
    "    input_string = f.read()\n",
    "print(input_string)"
   ]
  },
  {
   "cell_type": "code",
   "execution_count": 12,
   "metadata": {},
   "outputs": [
    {
     "name": "stdout",
     "output_type": "stream",
     "text": [
      "92579\n"
     ]
    }
   ],
   "source": [
    "print(len(stories))"
   ]
  }
 ],
 "metadata": {
  "colab": {
   "authorship_tag": "ABX9TyP52ACayGfTQCgL61EHqVIS",
   "include_colab_link": true,
   "name": "Chapter 01.ipynb",
   "provenance": []
  },
  "kernelspec": {
   "display_name": "Python 3",
   "language": "python",
   "name": "python3"
  },
  "language_info": {
   "codemirror_mode": {
    "name": "ipython",
    "version": 3
   },
   "file_extension": ".py",
   "mimetype": "text/x-python",
   "name": "python",
   "nbconvert_exporter": "python",
   "pygments_lexer": "ipython3",
   "version": "3.7.3"
  }
 },
 "nbformat": 4,
 "nbformat_minor": 4
}
