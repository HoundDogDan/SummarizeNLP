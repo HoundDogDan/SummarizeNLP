{
 "cells": [
  {
   "cell_type": "markdown",
   "metadata": {
    "colab_type": "text",
    "id": "view-in-github"
   },
   "source": [
    "<a href=\"https://colab.research.google.com/github/HoundDogDan/SummarizeNLP/blob/main/Chapter_01.ipynb\" target=\"_parent\"><img src=\"https://colab.research.google.com/assets/colab-badge.svg\" alt=\"Open In Colab\"/></a>"
   ]
  },
  {
   "cell_type": "markdown",
   "metadata": {
    "id": "rqiv7pglg284"
   },
   "source": [
    "MEAP Live Project - Summarize News Articles with NLP, Deep Learning and Python"
   ]
  },
  {
   "cell_type": "code",
   "execution_count": 1,
   "metadata": {
    "colab": {
     "base_uri": "https://localhost:8080/"
    },
    "id": "05RFdrUVqE7D",
    "outputId": "5a079bab-9bc0-47ab-e565-5cc6b316d418"
   },
   "outputs": [
    {
     "name": "stderr",
     "output_type": "stream",
     "text": [
      "'wget' is not recognized as an internal or external command,\n",
      "operable program or batch file.\n"
     ]
    }
   ],
   "source": [
    "!wget \"https://github.com/Manning-LP-What-s-The-News/Starter-Repository/releases/download/v0.1.0/cnn_stories.tgz\""
   ]
  },
  {
   "cell_type": "code",
   "execution_count": 3,
   "metadata": {
    "id": "rvUBH3a-rOGz"
   },
   "outputs": [],
   "source": [
    "import tarfile\n",
    "with tarfile.open('cnn_stories.tgz') as tar:\n",
    "    tar.extractall(path='data')"
   ]
  },
  {
   "cell_type": "code",
   "execution_count": 6,
   "metadata": {
    "colab": {
     "base_uri": "https://localhost:8080/"
    },
    "id": "T-VrVhHWg1cI",
    "outputId": "3e8f660d-8a16-4993-b93d-1b3ad231d081"
   },
   "outputs": [
    {
     "data": {
      "text/plain": [
       "WindowsPath('C:/Users/DannyScott/Documents/GitHub/SummaryNLP')"
      ]
     },
     "execution_count": 6,
     "metadata": {},
     "output_type": "execute_result"
    }
   ],
   "source": [
    "import pathlib\n",
    "cur_path = pathlib.Path()\n",
    "cur_path.cwd()\n"
   ]
  },
  {
   "cell_type": "code",
   "execution_count": 7,
   "metadata": {
    "colab": {
     "base_uri": "https://localhost:8080/"
    },
    "id": "B_xvJL7avEHY",
    "outputId": "2fdac602-ed5f-4cba-c3d1-ba7936a9d100"
   },
   "outputs": [
    {
     "data": {
      "text/plain": [
       "[WindowsPath('.git'),\n",
       " WindowsPath('.ipynb_checkpoints'),\n",
       " WindowsPath('Chapter_01.ipynb'),\n",
       " WindowsPath('cnn_stories.tgz'),\n",
       " WindowsPath('data'),\n",
       " WindowsPath('README.md')]"
      ]
     },
     "execution_count": 7,
     "metadata": {},
     "output_type": "execute_result"
    }
   ],
   "source": [
    "list(cur_path.iterdir())"
   ]
  },
  {
   "cell_type": "code",
   "execution_count": 9,
   "metadata": {
    "colab": {
     "base_uri": "https://localhost:8080/"
    },
    "id": "xkfbPcdSvES2",
    "outputId": "081da2bf-8a51-4579-9467-29139bdb1dfa"
   },
   "outputs": [
    {
     "data": {
      "text/plain": [
       "WindowsPath('data/cnn/stories/0001d1afc246a7964130f43ae940af6bc6c57f01.story')"
      ]
     },
     "execution_count": 9,
     "metadata": {},
     "output_type": "execute_result"
    }
   ],
   "source": [
    "datapath = pathlib.Path('data/cnn/stories')\n",
    "stories = list(datapath.iterdir())\n",
    "stories[0]"
   ]
  },
  {
   "cell_type": "code",
   "execution_count": null,
   "metadata": {
    "id": "9eRqMgSnvEWn"
   },
   "outputs": [],
   "source": []
  }
 ],
 "metadata": {
  "colab": {
   "authorship_tag": "ABX9TyP52ACayGfTQCgL61EHqVIS",
   "include_colab_link": true,
   "name": "Chapter 01.ipynb",
   "provenance": []
  },
  "kernelspec": {
   "display_name": "Python 3",
   "language": "python",
   "name": "python3"
  },
  "language_info": {
   "codemirror_mode": {
    "name": "ipython",
    "version": 3
   },
   "file_extension": ".py",
   "mimetype": "text/x-python",
   "name": "python",
   "nbconvert_exporter": "python",
   "pygments_lexer": "ipython3",
   "version": "3.7.3"
  }
 },
 "nbformat": 4,
 "nbformat_minor": 4
}
